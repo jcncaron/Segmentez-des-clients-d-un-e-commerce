{
 "cells": [
  {
   "cell_type": "code",
   "execution_count": 92,
   "id": "06e14491",
   "metadata": {},
   "outputs": [],
   "source": [
    "# Import main librairies\n",
    "import pandas as pd\n",
    "import numpy as np\n",
    "import seaborn as sns\n",
    "import matplotlib.pyplot as plt\n",
    "from datetime import datetime, date, time\n",
    "from sklearn import preprocessing\n",
    "from sklearn.cluster import KMeans\n",
    "from sklearn.metrics import adjusted_rand_score, rand_score\n",
    "\n",
    "# For images\n",
    "from IPython.display import Image\n",
    "\n",
    "# Ignore warning parts\n",
    "import warnings\n",
    "warnings.filterwarnings(\"ignore\")"
   ]
  },
  {
   "cell_type": "code",
   "execution_count": 4,
   "id": "ecc8dff5",
   "metadata": {},
   "outputs": [],
   "source": [
    "# Import datasets\n",
    "orders = pd.read_csv('olist_orders_dataset.csv', sep=',')\n",
    "order_reviews = pd.read_csv('olist_order_reviews_dataset.csv', sep=',')\n",
    "order_items = pd.read_csv('olist_order_items_dataset.csv', sep=',')\n",
    "customers = pd.read_csv('olist_customers_dataset.csv', sep=',')"
   ]
  },
  {
   "cell_type": "code",
   "execution_count": 51,
   "id": "c0164223",
   "metadata": {},
   "outputs": [],
   "source": [
    "# Fonction to create standardized customer data with date filter\n",
    "# Using Standard_Scaler\n",
    "def filter_date_and_fit(date):\n",
    "    # Create dataframe 'orders_order_reviews' = 'oor' by merging 'orders' and 'order_reviews'\n",
    "    orders_order_reviews = pd.merge(orders[['order_id',\n",
    "                                            'customer_id',\n",
    "                                            'order_purchase_timestamp']],\n",
    "                                   order_reviews[['review_id',\n",
    "                                                  'order_id',\n",
    "                                                  'review_score',\n",
    "                                                  'review_creation_date']])\n",
    "    oor = orders_order_reviews\n",
    "    \n",
    "    # We keep only the most recent review for each order_id ('order_id')\n",
    "    oor = oor.sort_values(by = 'review_creation_date', ascending = False)\n",
    "    oor = oor.drop_duplicates(subset = ['order_id'], keep ='first')\n",
    "    \n",
    "    # Merge datasets 'orders_order_reviews', 'customers' and 'order_items'\n",
    "    orders_customers = pd.merge(oor[['order_id', 'customer_id', 'order_purchase_timestamp',\n",
    "                                     'review_id','review_score']],\n",
    "                                customers[['customer_id', 'customer_unique_id']])\n",
    "\n",
    "    orders_customers = pd.merge(orders_customers,\n",
    "                                order_items[['order_id', 'order_item_id', 'product_id', 'price']])\n",
    "    \n",
    "    # Change dtypes 'object' to 'datetime'\n",
    "    orders_customers['order_purchase_timestamp'] = pd.to_datetime(orders_customers['order_purchase_timestamp'])\n",
    "    # Calculate duration between today and order_purchase_timestamp\n",
    "    orders_customers['last_order'] = (datetime.now() - orders_customers['order_purchase_timestamp'])\n",
    "    # Keep number of days only\n",
    "    orders_customers['last_order_days'] = orders_customers['last_order'].astype(str).str[:4].astype(int)\n",
    "    \n",
    "    # Creating dataframe with no duplicates (1 product/1 purchage for each customer): \n",
    "    # Dropping all 'customer_unique_id\" duplicates\n",
    "    df_no_duplicates = orders_customers.drop_duplicates(subset = ['customer_unique_id'],\n",
    "                                                        keep = False)\n",
    "    \n",
    "    # Creating dataframe only with duplicates (several products and several purchases)\n",
    "    df_duplicates = orders_customers.loc[orders_customers['customer_unique_id'].duplicated(keep = False) == True]\n",
    "    \n",
    "    # Change names of features in 'df_no_duplicates'\n",
    "    df_no_duplicates = df_no_duplicates.rename(columns={'customer_unique_id' : 'Customer',\n",
    "                                                        'price' : 'payments_total',\n",
    "                                                        'review_score' : 'review_score_mean'})\n",
    "    # Create new feature in 'df_no_duplicates' : number of purchases\n",
    "    df_no_duplicates['number_of_purchases'] = 1\n",
    "    \n",
    "    # Select the date of the most recent purchase in 'df_duplicates'\n",
    "    # Sort by date and create dataframe 'df_last_order'\n",
    "    df_last_order = df_duplicates.sort_values('order_purchase_timestamp',\n",
    "                                              ascending = False)\n",
    "    # Keep the line of the customer with the most recent date\n",
    "    df_last_order = df_last_order.drop_duplicates(subset = ['customer_unique_id'],\n",
    "                                                  keep = 'first')\n",
    "    # Change names of features in 'df_duplicates'\n",
    "    df_last_order = df_last_order.rename(columns={'customer_unique_id' : 'Customer'})\n",
    "    # Select relevant features\n",
    "    df_last_order = df_last_order[['Customer', 'order_purchase_timestamp', 'last_order_days', 'price']]\n",
    "    \n",
    "    # Calculate payments_total for each customer\n",
    "    # Save index for the column \"price\" in dataframe 'df_duplicates'\n",
    "    index_price = df_duplicates.columns.get_loc('price')\n",
    "    # Create list of customer_unique_id\n",
    "    list_customer_unique_id = df_last_order['Customer'].unique().tolist()\n",
    "    # Create new column \"payments_total\" in df_last_order\n",
    "    df_last_order[\"payments_total\"] = 0\n",
    "    # Save index for the column \"payments_total\" in dataframe df_last_order\n",
    "    index_payments_total = df_last_order.columns.get_loc('payments_total')\n",
    "    # Reset index of dataset df_duplicates\n",
    "    df_duplicates = df_duplicates.reset_index(drop = True)\n",
    "    # Reset index of dataset df\n",
    "    df_last_order = df_last_order.reset_index(drop = True)\n",
    "    # Loop to calculate and assign payments_total to each customer\n",
    "    for customer in list_customer_unique_id:\n",
    "        # Save list of indexes corresponding to the same customer in df_duplicates\n",
    "        index_list = df_duplicates.loc[df_duplicates['customer_unique_id'] == customer].index\n",
    "        # Save index of customer in df_last_order\n",
    "        index_customer = df_last_order.loc[df_last_order['Customer'] == customer].index\n",
    "        # Add prices for each customers to obtain 'payment_total'\n",
    "        df_last_order.iloc[index_customer, index_payments_total] = df_duplicates.iloc[index_list, index_price].sum()\n",
    "    \n",
    "    # Calculate number of purchases for each customer\n",
    "    # Create list of customer_unique_id\n",
    "    list_customer_unique_id = df_duplicates['customer_unique_id'].unique().tolist()\n",
    "    # Create new column \"number_of_purchases\" in df_last_order\n",
    "    df_last_order[\"number_of_purchases\"] = 0\n",
    "    # Save index for the column \"number_of_purchases\" in dataframe df_last_order\n",
    "    index_number_of_purchases = df_last_order.columns.get_loc('number_of_purchases')\n",
    "    # Loop to calculate and assign number_of_purchases to each customer\n",
    "    for customer in list_customer_unique_id:\n",
    "        # Save index of customer in df_last_order\n",
    "        index_customer = df_last_order.loc[df_last_order['Customer'] == customer].index\n",
    "        # Create dataframe for each customer\n",
    "        df_customer = df_duplicates.loc[df_duplicates['customer_unique_id'] == customer]\n",
    "        # Add number_of_purchases for each customers\n",
    "        df_last_order.iloc[index_customer, index_number_of_purchases] = len(df_customer['order_id'].unique().tolist())\n",
    "    \n",
    "    # Calculate review_score_mean for each customer\n",
    "    # Create list of customer_unique_id\n",
    "    list_customer_unique_id = df_duplicates['customer_unique_id'].unique().tolist()\n",
    "    # Create new column \"review_score_mean\" in df_last_order\n",
    "    df_last_order[\"review_score_mean\"] = 0\n",
    "    # Save index for the column \"review_score_mean\" in dataframe df_last_order\n",
    "    index_review_score_mean = df_last_order.columns.get_loc('review_score_mean')\n",
    "    # Loop to calculate and assign review_score_mean to each customer\n",
    "    for customer in list_customer_unique_id:\n",
    "        # Save index of customer in df_last_order\n",
    "        index_customer = df_last_order.loc[df_last_order['Customer'] == customer].index\n",
    "        # Create dataframe for each customer\n",
    "        df_customer = df_duplicates.loc[df_duplicates['customer_unique_id'] == customer]        \n",
    "        # Calculate the mean of review_scores for each customers to obtain 'review_score_mean'\n",
    "        df_last_order.iloc[index_customer, index_review_score_mean] = df_customer['review_score'].mean()\n",
    "    \n",
    "    # Concatenate dataframes keeping only common features\n",
    "    data_final = pd.concat([df_no_duplicates, df_last_order], join = \"inner\", ignore_index = True)\n",
    "    \n",
    "    # Keep only relevant features\n",
    "    data_final = data_final[['Customer',\n",
    "                             'number_of_purchases',\n",
    "                             'payments_total',\n",
    "                             'order_purchase_timestamp',\n",
    "                             'last_order_days',\n",
    "                             'review_score_mean']]\n",
    "    \n",
    "    # set feature 'Customer' as index\n",
    "    data_final = data_final.set_index('Customer')\n",
    "    \n",
    "    # Filter by date\n",
    "    data = data_final.loc[data_final['order_purchase_timestamp'] < date]\n",
    "    data = data[['number_of_purchases',\n",
    "                 'payments_total',\n",
    "                 'last_order_days',\n",
    "                 'review_score_mean']]\n",
    "    \n",
    "    # Standardize data\n",
    "    X = data.values\n",
    "    std_scaled = preprocessing.StandardScaler().fit(X)\n",
    "    X_scaled = std_scaled.transform(X)\n",
    "    \n",
    "    # return data\n",
    "    return X_scaled"
   ]
  },
  {
   "cell_type": "code",
   "execution_count": 73,
   "id": "546fa10c",
   "metadata": {},
   "outputs": [],
   "source": [
    "# Fonction to create standardized customer final data with date filter\n",
    "# Using Standard_Scaler fitted on oldest customer data\n",
    "def filter_date_and_predict(date):\n",
    "    # Create dataframe 'orders_order_reviews' = 'oor' by merging 'orders' and 'order_reviews'\n",
    "    orders_order_reviews = pd.merge(orders[['order_id',\n",
    "                                            'customer_id',\n",
    "                                            'order_purchase_timestamp']],\n",
    "                                   order_reviews[['review_id',\n",
    "                                                  'order_id',\n",
    "                                                  'review_score',\n",
    "                                                  'review_creation_date']])\n",
    "    oor = orders_order_reviews\n",
    "    \n",
    "    # We keep only the most recent review for each order_id ('order_id')\n",
    "    oor = oor.sort_values(by = 'review_creation_date', ascending = False)\n",
    "    oor = oor.drop_duplicates(subset = ['order_id'], keep ='first')\n",
    "    \n",
    "    # Merge datasets 'orders_order_reviews', 'customers' and 'order_items'\n",
    "    orders_customers = pd.merge(oor[['order_id', 'customer_id', 'order_purchase_timestamp',\n",
    "                                     'review_id','review_score']],\n",
    "                                customers[['customer_id', 'customer_unique_id']])\n",
    "\n",
    "    orders_customers = pd.merge(orders_customers,\n",
    "                                order_items[['order_id', 'order_item_id', 'product_id', 'price']])\n",
    "    \n",
    "    # Change dtypes 'object' to 'datetime'\n",
    "    orders_customers['order_purchase_timestamp'] = pd.to_datetime(orders_customers['order_purchase_timestamp'])\n",
    "    # Calculate duration between today and order_purchase_timestamp\n",
    "    orders_customers['last_order'] = (datetime.now() - orders_customers['order_purchase_timestamp'])\n",
    "    # Keep number of days only\n",
    "    orders_customers['last_order_days'] = orders_customers['last_order'].astype(str).str[:4].astype(int)\n",
    "    \n",
    "    # Creating dataframe with no duplicates (1 product/1 purchage for each customer): \n",
    "    # Dropping all 'customer_unique_id\" duplicates\n",
    "    df_no_duplicates = orders_customers.drop_duplicates(subset = ['customer_unique_id'],\n",
    "                                                        keep = False)\n",
    "    \n",
    "    # Creating dataframe only with duplicates (several products and several purchases)\n",
    "    df_duplicates = orders_customers.loc[orders_customers['customer_unique_id'].duplicated(keep = False) == True]\n",
    "    \n",
    "    # Change names of features in 'df_no_duplicates'\n",
    "    df_no_duplicates = df_no_duplicates.rename(columns={'customer_unique_id' : 'Customer',\n",
    "                                                        'price' : 'payments_total',\n",
    "                                                        'review_score' : 'review_score_mean'})\n",
    "    # Create new feature in 'df_no_duplicates' : number of purchases\n",
    "    df_no_duplicates['number_of_purchases'] = 1\n",
    "    \n",
    "    # Select the date of the most recent purchase in 'df_duplicates'\n",
    "    # Sort by date and create dataframe 'df_last_order'\n",
    "    df_last_order = df_duplicates.sort_values('order_purchase_timestamp',\n",
    "                                              ascending = False)\n",
    "    # Keep the line of the customer with the most recent date\n",
    "    df_last_order = df_last_order.drop_duplicates(subset = ['customer_unique_id'],\n",
    "                                                  keep = 'first')\n",
    "    # Change names of features in 'df_duplicates'\n",
    "    df_last_order = df_last_order.rename(columns={'customer_unique_id' : 'Customer'})\n",
    "    # Select relevant features\n",
    "    df_last_order = df_last_order[['Customer', 'order_purchase_timestamp', 'last_order_days', 'price']]\n",
    "    \n",
    "    # Calculate payments_total for each customer\n",
    "    # Save index for the column \"price\" in dataframe 'df_duplicates'\n",
    "    index_price = df_duplicates.columns.get_loc('price')\n",
    "    # Create list of customer_unique_id\n",
    "    list_customer_unique_id = df_last_order['Customer'].unique().tolist()\n",
    "    # Create new column \"payments_total\" in df_last_order\n",
    "    df_last_order[\"payments_total\"] = 0\n",
    "    # Save index for the column \"payments_total\" in dataframe df_last_order\n",
    "    index_payments_total = df_last_order.columns.get_loc('payments_total')\n",
    "    # Reset index of dataset df_duplicates\n",
    "    df_duplicates = df_duplicates.reset_index(drop = True)\n",
    "    # Reset index of dataset df\n",
    "    df_last_order = df_last_order.reset_index(drop = True)\n",
    "    # Loop to calculate and assign payments_total to each customer\n",
    "    for customer in list_customer_unique_id:\n",
    "        # Save list of indexes corresponding to the same customer in df_duplicates\n",
    "        index_list = df_duplicates.loc[df_duplicates['customer_unique_id'] == customer].index\n",
    "        # Save index of customer in df_last_order\n",
    "        index_customer = df_last_order.loc[df_last_order['Customer'] == customer].index\n",
    "        # Add prices for each customers to obtain 'payment_total'\n",
    "        df_last_order.iloc[index_customer, index_payments_total] = df_duplicates.iloc[index_list, index_price].sum()\n",
    "    \n",
    "    # Calculate number of purchases for each customer\n",
    "    # Create list of customer_unique_id\n",
    "    list_customer_unique_id = df_duplicates['customer_unique_id'].unique().tolist()\n",
    "    # Create new column \"number_of_purchases\" in df_last_order\n",
    "    df_last_order[\"number_of_purchases\"] = 0\n",
    "    # Save index for the column \"number_of_purchases\" in dataframe df_last_order\n",
    "    index_number_of_purchases = df_last_order.columns.get_loc('number_of_purchases')\n",
    "    # Loop to calculate and assign number_of_purchases to each customer\n",
    "    for customer in list_customer_unique_id:\n",
    "        # Save index of customer in df_last_order\n",
    "        index_customer = df_last_order.loc[df_last_order['Customer'] == customer].index\n",
    "        # Create dataframe for each customer\n",
    "        df_customer = df_duplicates.loc[df_duplicates['customer_unique_id'] == customer]\n",
    "        # Add number_of_purchases for each customers\n",
    "        df_last_order.iloc[index_customer, index_number_of_purchases] = len(df_customer['order_id'].unique().tolist())\n",
    "    \n",
    "    # Calculate review_score_mean for each customer\n",
    "    # Create list of customer_unique_id\n",
    "    list_customer_unique_id = df_duplicates['customer_unique_id'].unique().tolist()\n",
    "    # Create new column \"review_score_mean\" in df_last_order\n",
    "    df_last_order[\"review_score_mean\"] = 0\n",
    "    # Save index for the column \"review_score_mean\" in dataframe df_last_order\n",
    "    index_review_score_mean = df_last_order.columns.get_loc('review_score_mean')\n",
    "    # Loop to calculate and assign review_score_mean to each customer\n",
    "    for customer in list_customer_unique_id:\n",
    "        # Save index of customer in df_last_order\n",
    "        index_customer = df_last_order.loc[df_last_order['Customer'] == customer].index\n",
    "        # Create dataframe for each customer\n",
    "        df_customer = df_duplicates.loc[df_duplicates['customer_unique_id'] == customer]        \n",
    "        # Calculate the mean of review_scores for each customers to obtain 'review_score_mean'\n",
    "        df_last_order.iloc[index_customer, index_review_score_mean] = df_customer['review_score'].mean()\n",
    "    \n",
    "    # Concatenate dataframes keeping only common features\n",
    "    data_final = pd.concat([df_no_duplicates, df_last_order], join = \"inner\", ignore_index = True)\n",
    "    \n",
    "    # Keep only relevant features\n",
    "    data_final = data_final[['Customer',\n",
    "                             'number_of_purchases',\n",
    "                             'payments_total',\n",
    "                             'order_purchase_timestamp',\n",
    "                             'last_order_days',\n",
    "                             'review_score_mean']]\n",
    "    \n",
    "    # set feature 'Customer' as index\n",
    "    data_final = data_final.set_index('Customer')\n",
    "    \n",
    "    # Filter by date\n",
    "    data = data_final.loc[data_final['order_purchase_timestamp'] < date]\n",
    "    data = data[['number_of_purchases',\n",
    "                 'payments_total',\n",
    "                 'last_order_days',\n",
    "                 'review_score_mean']]\n",
    "    \n",
    "    # Standardize data\n",
    "    X_final = data_final[['number_of_purchases', 'payments_total', 'last_order_days', 'review_score_mean']].values\n",
    "    X = data.values\n",
    "    std_scaled = preprocessing.StandardScaler().fit(X)\n",
    "    X_final_scaled = std_scaled.transform(X_final)\n",
    "    \n",
    "    # return data\n",
    "    return X_final_scaled"
   ]
  },
  {
   "cell_type": "markdown",
   "id": "114481aa",
   "metadata": {},
   "source": [
    "### Test 1 week"
   ]
  },
  {
   "cell_type": "code",
   "execution_count": null,
   "id": "a310998a",
   "metadata": {},
   "outputs": [],
   "source": [
    "# Create final - 1 week standardized customer data (last order : 2018-08-27)\n",
    "# Standard Scaler fit on F1week\n",
    "F1week = filter_date_and_fit('2018-08-28')"
   ]
  },
  {
   "cell_type": "code",
   "execution_count": 63,
   "id": "5666b58f",
   "metadata": {},
   "outputs": [
    {
     "data": {
      "text/plain": [
       "(94670, 4)"
      ]
     },
     "execution_count": 63,
     "metadata": {},
     "output_type": "execute_result"
    }
   ],
   "source": [
    "F1week.shape"
   ]
  },
  {
   "cell_type": "code",
   "execution_count": 67,
   "id": "9a36ffec",
   "metadata": {},
   "outputs": [],
   "source": [
    "# Create initial model at Tfinal - 1 week = T1week\n",
    "km1 = KMeans(n_clusters = 5,\n",
    "             max_iter = 300,\n",
    "             n_init = 10,\n",
    "             init = 'k-means++')\n",
    "km1.fit(F1week)"
   ]
  },
  {
   "cell_type": "code",
   "execution_count": 59,
   "id": "0f7e9950",
   "metadata": {},
   "outputs": [],
   "source": [
    "# Create final standardized customer data (last order : 2018-09-03)\n",
    "# Standard Scaler fit on Ffinal\n",
    "Ffinal_fit = filter_date_and_fit('2018-09-04')"
   ]
  },
  {
   "cell_type": "code",
   "execution_count": 60,
   "id": "1ec86b04",
   "metadata": {},
   "outputs": [
    {
     "data": {
      "text/plain": [
       "array([[-0.16027064,  0.25233837, -1.54027974,  0.67653723],\n",
       "       [-0.16027064, -0.24563887, -1.52722222,  0.67653723],\n",
       "       [-0.16027064,  0.49809337, -1.50110717,  0.67653723],\n",
       "       ...,\n",
       "       [-0.16027064, -0.43596041,  2.97762305,  0.67653723],\n",
       "       [-0.16027064, -0.03328253,  3.10166951, -2.33671593],\n",
       "       [-0.16027064, -0.32005829,  3.16695713, -2.33671593]])"
      ]
     },
     "execution_count": 60,
     "metadata": {},
     "output_type": "execute_result"
    }
   ],
   "source": [
    "Ffinal_fit"
   ]
  },
  {
   "cell_type": "code",
   "execution_count": 61,
   "id": "626b73a8",
   "metadata": {},
   "outputs": [
    {
     "data": {
      "text/plain": [
       "(94721, 4)"
      ]
     },
     "execution_count": 61,
     "metadata": {},
     "output_type": "execute_result"
    }
   ],
   "source": [
    "Ffinal_fit.shape"
   ]
  },
  {
   "cell_type": "code",
   "execution_count": 71,
   "id": "b544aa0c",
   "metadata": {},
   "outputs": [],
   "source": [
    "# Create model at Tfinal\n",
    "kmfinal_fit = KMeans(n_clusters = 5,\n",
    "                     max_iter = 300,\n",
    "                     n_init = 10,\n",
    "                     init = 'k-means++')\n",
    "kmfinal_fit.fit(Ffinal_fit)\n",
    "labels_k_means_final_fit = kmfinal_fit.labels_"
   ]
  },
  {
   "cell_type": "code",
   "execution_count": 72,
   "id": "ae62cfe4",
   "metadata": {},
   "outputs": [
    {
     "data": {
      "text/plain": [
       "array([3, 3, 3, ..., 0, 2, 2])"
      ]
     },
     "execution_count": 72,
     "metadata": {},
     "output_type": "execute_result"
    }
   ],
   "source": [
    "labels_k_means_final_fit"
   ]
  },
  {
   "cell_type": "code",
   "execution_count": 77,
   "id": "379ac753",
   "metadata": {},
   "outputs": [],
   "source": [
    "# Create final standardized customer data (last order : 2018-09-03)\n",
    "# Standard Scaler fit on F1week\n",
    "Ffinal_predict_1 = filter_date_and_predict('2018-08-28')"
   ]
  },
  {
   "cell_type": "code",
   "execution_count": 78,
   "id": "23e72228",
   "metadata": {},
   "outputs": [
    {
     "data": {
      "text/plain": [
       "array([[-0.16019128,  0.25223204, -1.54184635,  0.67659322],\n",
       "       [-0.16019128, -0.2456625 , -1.52878379,  0.67659322],\n",
       "       [-0.16019128,  0.49794623, -1.50265868,  0.67659322],\n",
       "       ...,\n",
       "       [-0.16019128, -0.43595244,  2.97779789,  0.67659322],\n",
       "       [-0.16019128, -0.03334142,  3.10189217, -2.33646448],\n",
       "       [-0.16019128, -0.32006956,  3.16720495, -2.33646448]])"
      ]
     },
     "execution_count": 78,
     "metadata": {},
     "output_type": "execute_result"
    }
   ],
   "source": [
    "Ffinal_predict_1"
   ]
  },
  {
   "cell_type": "code",
   "execution_count": 79,
   "id": "b7652084",
   "metadata": {},
   "outputs": [
    {
     "data": {
      "text/plain": [
       "(94721, 4)"
      ]
     },
     "execution_count": 79,
     "metadata": {},
     "output_type": "execute_result"
    }
   ],
   "source": [
    "Ffinal_predict_1.shape"
   ]
  },
  {
   "cell_type": "code",
   "execution_count": 84,
   "id": "6dd21ef8",
   "metadata": {},
   "outputs": [],
   "source": [
    "# Predict clusters at Tfinal using (Tfinal - 1 week) KMeans model\n",
    "labels_k_means_final_predict_1 = km1.predict(Ffinal_predict_1)"
   ]
  },
  {
   "cell_type": "code",
   "execution_count": 85,
   "id": "07a877a6",
   "metadata": {},
   "outputs": [
    {
     "data": {
      "text/plain": [
       "array([3, 3, 3, ..., 0, 1, 1])"
      ]
     },
     "execution_count": 85,
     "metadata": {},
     "output_type": "execute_result"
    }
   ],
   "source": [
    "labels_k_means_final_predict_1"
   ]
  },
  {
   "cell_type": "code",
   "execution_count": 89,
   "id": "c7a51349",
   "metadata": {},
   "outputs": [],
   "source": [
    "# Calculate adjusted rand score\n",
    "ARI_1_week = adjusted_rand_score(labels_k_means_final_fit, labels_k_means_final_predict_1)"
   ]
  },
  {
   "cell_type": "code",
   "execution_count": 90,
   "id": "7653610e",
   "metadata": {},
   "outputs": [
    {
     "data": {
      "text/plain": [
       "1.0521610151373788"
      ]
     },
     "execution_count": 90,
     "metadata": {},
     "output_type": "execute_result"
    }
   ],
   "source": [
    "ARI_1_week"
   ]
  },
  {
   "cell_type": "code",
   "execution_count": 93,
   "id": "a8574430",
   "metadata": {},
   "outputs": [],
   "source": [
    "# Calculate rand score\n",
    "RI_1_week = rand_score(labels_k_means_final_fit, labels_k_means_final_predict_1)"
   ]
  },
  {
   "cell_type": "code",
   "execution_count": 94,
   "id": "41af6b0f",
   "metadata": {},
   "outputs": [
    {
     "data": {
      "text/plain": [
       "0.9994289947226235"
      ]
     },
     "execution_count": 94,
     "metadata": {},
     "output_type": "execute_result"
    }
   ],
   "source": [
    "RI_1_week"
   ]
  },
  {
   "cell_type": "markdown",
   "id": "25959ba4",
   "metadata": {},
   "source": [
    "### Test 2 weeks"
   ]
  },
  {
   "cell_type": "code",
   "execution_count": 91,
   "id": "fb2efab1",
   "metadata": {},
   "outputs": [],
   "source": [
    "# Create final - 2 weeks standardized customer data (last order : 2018-08-20)\n",
    "# Standard Scaler fit on F2weeks\n",
    "F2weeks = filter_date_and_fit('2018-08-21')"
   ]
  },
  {
   "cell_type": "code",
   "execution_count": 95,
   "id": "ab7402e8",
   "metadata": {},
   "outputs": [
    {
     "data": {
      "text/plain": [
       "(93801, 4)"
      ]
     },
     "execution_count": 95,
     "metadata": {},
     "output_type": "execute_result"
    }
   ],
   "source": [
    "F2weeks.shape"
   ]
  },
  {
   "cell_type": "code",
   "execution_count": 96,
   "id": "01daaf27",
   "metadata": {},
   "outputs": [
    {
     "data": {
      "text/plain": [
       "KMeans(n_clusters=5)"
      ]
     },
     "execution_count": 96,
     "metadata": {},
     "output_type": "execute_result"
    }
   ],
   "source": [
    "# Create initial model at Tfinal - 2 weeks = T2weeks\n",
    "km2 = KMeans(n_clusters = 5,\n",
    "             max_iter = 300,\n",
    "             n_init = 10,\n",
    "             init = 'k-means++')\n",
    "km2.fit(F2weeks)"
   ]
  },
  {
   "cell_type": "code",
   "execution_count": 97,
   "id": "929ebd27",
   "metadata": {},
   "outputs": [],
   "source": [
    "# Create final standardized customer data (last order : 2018-09-03)\n",
    "# Standard Scaler fit on F2weeks\n",
    "Ffinal_predict_2 = filter_date_and_predict('2018-08-21')"
   ]
  },
  {
   "cell_type": "code",
   "execution_count": 98,
   "id": "239214e4",
   "metadata": {},
   "outputs": [
    {
     "data": {
      "text/plain": [
       "(94721, 4)"
      ]
     },
     "execution_count": 98,
     "metadata": {},
     "output_type": "execute_result"
    }
   ],
   "source": [
    "Ffinal_predict_2.shape"
   ]
  },
  {
   "cell_type": "code",
   "execution_count": 99,
   "id": "0010f972",
   "metadata": {},
   "outputs": [],
   "source": [
    "# Predict clusters at Tfinal using (Tfinal - 2 weeks) KMeans model\n",
    "labels_k_means_final_predict_2 = km2.predict(Ffinal_predict_2)"
   ]
  },
  {
   "cell_type": "code",
   "execution_count": 100,
   "id": "4af0154f",
   "metadata": {},
   "outputs": [
    {
     "data": {
      "text/plain": [
       "1.647627470783356"
      ]
     },
     "execution_count": 100,
     "metadata": {},
     "output_type": "execute_result"
    }
   ],
   "source": [
    "# Calculate adjusted rand score\n",
    "ARI_2_weeks = adjusted_rand_score(labels_k_means_final_fit, labels_k_means_final_predict_2)\n",
    "ARI_2_weeks"
   ]
  },
  {
   "cell_type": "code",
   "execution_count": 101,
   "id": "4e682337",
   "metadata": {},
   "outputs": [
    {
     "data": {
      "text/plain": [
       "0.993155693270735"
      ]
     },
     "execution_count": 101,
     "metadata": {},
     "output_type": "execute_result"
    }
   ],
   "source": [
    "# Calculate rand score\n",
    "RI_2_weeks = rand_score(labels_k_means_final_fit, labels_k_means_final_predict_2)\n",
    "RI_2_weeks"
   ]
  },
  {
   "cell_type": "markdown",
   "id": "0cb6d30d",
   "metadata": {},
   "source": [
    "### Test 3 weeks"
   ]
  },
  {
   "cell_type": "code",
   "execution_count": 103,
   "id": "481c5f7f",
   "metadata": {},
   "outputs": [
    {
     "data": {
      "text/plain": [
       "(91996, 4)"
      ]
     },
     "execution_count": 103,
     "metadata": {},
     "output_type": "execute_result"
    }
   ],
   "source": [
    "# Create final - 3 weeks standardized customer data (last order : 2018-08-13)\n",
    "# Standard Scaler fit on F3weeks\n",
    "F3weeks = filter_date_and_fit('2018-08-14')\n",
    "F3weeks.shape"
   ]
  },
  {
   "cell_type": "code",
   "execution_count": 104,
   "id": "e61b65ad",
   "metadata": {},
   "outputs": [
    {
     "data": {
      "text/plain": [
       "KMeans(n_clusters=5)"
      ]
     },
     "execution_count": 104,
     "metadata": {},
     "output_type": "execute_result"
    }
   ],
   "source": [
    "# Create initial model at Tfinal - 3 weeks = T3weeks\n",
    "km3 = KMeans(n_clusters = 5,\n",
    "             max_iter = 300,\n",
    "             n_init = 10,\n",
    "             init = 'k-means++')\n",
    "km3.fit(F3weeks)"
   ]
  },
  {
   "cell_type": "code",
   "execution_count": 105,
   "id": "89347858",
   "metadata": {},
   "outputs": [
    {
     "data": {
      "text/plain": [
       "(94721, 4)"
      ]
     },
     "execution_count": 105,
     "metadata": {},
     "output_type": "execute_result"
    }
   ],
   "source": [
    "# Create final standardized customer data (last order : 2018-09-03)\n",
    "# Standard Scaler fit on F3weeks\n",
    "Ffinal_predict_3 = filter_date_and_predict('2018-08-14')\n",
    "Ffinal_predict_3.shape"
   ]
  },
  {
   "cell_type": "code",
   "execution_count": 106,
   "id": "ec8cbada",
   "metadata": {},
   "outputs": [],
   "source": [
    "# Predict clusters at Tfinal using (Tfinal - 3 weeks) KMeans model\n",
    "labels_k_means_final_predict_3 = km3.predict(Ffinal_predict_3)"
   ]
  },
  {
   "cell_type": "code",
   "execution_count": 107,
   "id": "a5fbe05f",
   "metadata": {},
   "outputs": [
    {
     "data": {
      "text/plain": [
       "2.9786030555120346"
      ]
     },
     "execution_count": 107,
     "metadata": {},
     "output_type": "execute_result"
    }
   ],
   "source": [
    "# Calculate adjusted rand score\n",
    "ARI_3_weeks = adjusted_rand_score(labels_k_means_final_fit, labels_k_means_final_predict_3)\n",
    "ARI_3_weeks"
   ]
  },
  {
   "cell_type": "code",
   "execution_count": 108,
   "id": "53a5609c",
   "metadata": {},
   "outputs": [
    {
     "data": {
      "text/plain": [
       "0.980558122982874"
      ]
     },
     "execution_count": 108,
     "metadata": {},
     "output_type": "execute_result"
    }
   ],
   "source": [
    "# Calculate rand score\n",
    "RI_3_weeks = rand_score(labels_k_means_final_fit, labels_k_means_final_predict_3)\n",
    "RI_3_weeks"
   ]
  },
  {
   "cell_type": "markdown",
   "id": "8a6d2512",
   "metadata": {},
   "source": [
    "### Test 4 weeks"
   ]
  },
  {
   "cell_type": "code",
   "execution_count": 109,
   "id": "346ec36a",
   "metadata": {},
   "outputs": [
    {
     "data": {
      "text/plain": [
       "(90131, 4)"
      ]
     },
     "execution_count": 109,
     "metadata": {},
     "output_type": "execute_result"
    }
   ],
   "source": [
    "# Create final - 4 weeks standardized customer data (last order : 2018-08-06)\n",
    "# Standard Scaler fit on F4weeks\n",
    "F4weeks = filter_date_and_fit('2018-08-07')\n",
    "F4weeks.shape"
   ]
  },
  {
   "cell_type": "code",
   "execution_count": 110,
   "id": "67fbd36d",
   "metadata": {},
   "outputs": [
    {
     "data": {
      "text/plain": [
       "KMeans(n_clusters=5)"
      ]
     },
     "execution_count": 110,
     "metadata": {},
     "output_type": "execute_result"
    }
   ],
   "source": [
    "# Create initial model at Tfinal - 4 weeks = T4weeks\n",
    "km4 = KMeans(n_clusters = 5,\n",
    "             max_iter = 300,\n",
    "             n_init = 10,\n",
    "             init = 'k-means++')\n",
    "km4.fit(F4weeks)"
   ]
  },
  {
   "cell_type": "code",
   "execution_count": 111,
   "id": "5872a734",
   "metadata": {},
   "outputs": [
    {
     "data": {
      "text/plain": [
       "(94721, 4)"
      ]
     },
     "execution_count": 111,
     "metadata": {},
     "output_type": "execute_result"
    }
   ],
   "source": [
    "# Create final standardized customer data (last order : 2018-09-03)\n",
    "# Standard Scaler fit on F4weeks\n",
    "Ffinal_predict_4 = filter_date_and_predict('2018-08-07')\n",
    "Ffinal_predict_4.shape"
   ]
  },
  {
   "cell_type": "code",
   "execution_count": 112,
   "id": "e1fc674c",
   "metadata": {},
   "outputs": [],
   "source": [
    "# Predict clusters at Tfinal using (Tfinal - 4 weeks) KMeans model\n",
    "labels_k_means_final_predict_4 = km4.predict(Ffinal_predict_4)"
   ]
  },
  {
   "cell_type": "code",
   "execution_count": 113,
   "id": "5084806d",
   "metadata": {},
   "outputs": [
    {
     "data": {
      "text/plain": [
       "16.77265625518444"
      ]
     },
     "execution_count": 113,
     "metadata": {},
     "output_type": "execute_result"
    }
   ],
   "source": [
    "# Calculate adjusted rand score\n",
    "ARI_4_weeks = adjusted_rand_score(labels_k_means_final_fit, labels_k_means_final_predict_4)\n",
    "ARI_4_weeks"
   ]
  },
  {
   "cell_type": "code",
   "execution_count": 114,
   "id": "8dbb0a73",
   "metadata": {},
   "outputs": [
    {
     "data": {
      "text/plain": [
       "0.9194519379032647"
      ]
     },
     "execution_count": 114,
     "metadata": {},
     "output_type": "execute_result"
    }
   ],
   "source": [
    "# Calculate rand score\n",
    "RI_4_weeks = rand_score(labels_k_means_final_fit, labels_k_means_final_predict_4)\n",
    "RI_4_weeks"
   ]
  },
  {
   "cell_type": "markdown",
   "id": "a4d61c01",
   "metadata": {},
   "source": [
    "### Test 5 weeks"
   ]
  },
  {
   "cell_type": "code",
   "execution_count": 115,
   "id": "a2af2ede",
   "metadata": {},
   "outputs": [
    {
     "data": {
      "text/plain": [
       "0.907267985216612"
      ]
     },
     "execution_count": 115,
     "metadata": {},
     "output_type": "execute_result"
    }
   ],
   "source": [
    "# Create final - 5 weeks standardized customer data (last order : 2018-07-30)\n",
    "# Standard Scaler fit on F5weeks\n",
    "F5weeks = filter_date_and_fit('2018-07-31')\n",
    "\n",
    "# Create initial model at Tfinal - 5 weeks = T5weeks\n",
    "km5 = KMeans(n_clusters = 5,\n",
    "             max_iter = 300,\n",
    "             n_init = 10,\n",
    "             init = 'k-means++')\n",
    "km5.fit(F5weeks)\n",
    "\n",
    "# Create final standardized customer data (last order : 2018-09-03)\n",
    "# Standard Scaler fit on F5weeks\n",
    "Ffinal_predict_5 = filter_date_and_predict('2018-07-31')\n",
    "\n",
    "# Predict clusters at Tfinal using (Tfinal - 5 weeks) KMeans model\n",
    "labels_k_means_final_predict_5 = km5.predict(Ffinal_predict_5)\n",
    "\n",
    "# Calculate rand score\n",
    "RI_5_weeks = rand_score(labels_k_means_final_fit, labels_k_means_final_predict_5)\n",
    "RI_5_weeks"
   ]
  },
  {
   "cell_type": "markdown",
   "id": "5dbda5cf",
   "metadata": {},
   "source": [
    "### Test 6 weeks"
   ]
  },
  {
   "cell_type": "code",
   "execution_count": 116,
   "id": "16a00fc3",
   "metadata": {},
   "outputs": [
    {
     "data": {
      "text/plain": [
       "0.8984291089806564"
      ]
     },
     "execution_count": 116,
     "metadata": {},
     "output_type": "execute_result"
    }
   ],
   "source": [
    "# Create final - 6 weeks standardized customer data (last order : 2018-07-23)\n",
    "# Standard Scaler fit on F6weeks\n",
    "F6weeks = filter_date_and_fit('2018-07-24')\n",
    "\n",
    "# Create initial model at Tfinal - 6 weeks = T6weeks\n",
    "km6 = KMeans(n_clusters = 5,\n",
    "             max_iter = 300,\n",
    "             n_init = 10,\n",
    "             init = 'k-means++')\n",
    "km6.fit(F6weeks)\n",
    "\n",
    "# Create final standardized customer data (last order : 2018-09-03)\n",
    "# Standard Scaler fit on F6weeks\n",
    "Ffinal_predict_6 = filter_date_and_predict('2018-07-24')\n",
    "\n",
    "# Predict clusters at Tfinal using (Tfinal - 6 weeks) KMeans model\n",
    "labels_k_means_final_predict_6 = km6.predict(Ffinal_predict_6)\n",
    "\n",
    "# Calculate rand score\n",
    "RI_6_weeks = rand_score(labels_k_means_final_fit, labels_k_means_final_predict_6)\n",
    "RI_6_weeks"
   ]
  },
  {
   "cell_type": "markdown",
   "id": "ac925db2",
   "metadata": {},
   "source": [
    "### Test 7 weeks"
   ]
  },
  {
   "cell_type": "code",
   "execution_count": 118,
   "id": "dd0991b1",
   "metadata": {},
   "outputs": [
    {
     "data": {
      "text/plain": [
       "0.8912307349846362"
      ]
     },
     "execution_count": 118,
     "metadata": {},
     "output_type": "execute_result"
    }
   ],
   "source": [
    "# Create final - 7 weeks standardized customer data (last order : 2018-07-16)\n",
    "# Standard Scaler fit on F7weeks\n",
    "F7weeks = filter_date_and_fit('2018-07-17')\n",
    "\n",
    "# Create initial model at Tfinal - 7 weeks = T7weeks\n",
    "km7 = KMeans(n_clusters = 5,\n",
    "             max_iter = 300,\n",
    "             n_init = 10,\n",
    "             init = 'k-means++')\n",
    "km7.fit(F7weeks)\n",
    "\n",
    "# Create final standardized customer data (last order : 2018-09-03)\n",
    "# Standard Scaler fit on F7weeks\n",
    "Ffinal_predict_7 = filter_date_and_predict('2018-07-17')\n",
    "\n",
    "# Predict clusters at Tfinal using (Tfinal - 7 weeks) KMeans model\n",
    "labels_k_means_final_predict_7 = km7.predict(Ffinal_predict_7)\n",
    "\n",
    "# Calculate rand score\n",
    "RI_7_weeks = rand_score(labels_k_means_final_fit, labels_k_means_final_predict_7)\n",
    "RI_7_weeks"
   ]
  },
  {
   "cell_type": "markdown",
   "id": "0401071a",
   "metadata": {},
   "source": [
    "### Test 8 weeks"
   ]
  },
  {
   "cell_type": "code",
   "execution_count": 119,
   "id": "6edd0360",
   "metadata": {},
   "outputs": [
    {
     "data": {
      "text/plain": [
       "0.8877419227042892"
      ]
     },
     "execution_count": 119,
     "metadata": {},
     "output_type": "execute_result"
    }
   ],
   "source": [
    "# Create final - 8 weeks standardized customer data (last order : 2018-07-09)\n",
    "# Standard Scaler fit on F8weeks\n",
    "F8weeks = filter_date_and_fit('2018-07-10')\n",
    "\n",
    "# Create initial model at Tfinal - 8 weeks = T8weeks\n",
    "km8 = KMeans(n_clusters = 5,\n",
    "             max_iter = 300,\n",
    "             n_init = 10,\n",
    "             init = 'k-means++')\n",
    "km8.fit(F8weeks)\n",
    "\n",
    "# Create final standardized customer data (last order : 2018-09-03)\n",
    "# Standard Scaler fit on F8weeks\n",
    "Ffinal_predict_8 = filter_date_and_predict('2018-07-10')\n",
    "\n",
    "# Predict clusters at Tfinal using (Tfinal - 8 weeks) KMeans model\n",
    "labels_k_means_final_predict_8 = km8.predict(Ffinal_predict_8)\n",
    "\n",
    "# Calculate rand score\n",
    "RI_8_weeks = rand_score(labels_k_means_final_fit, labels_k_means_final_predict_8)\n",
    "RI_8_weeks"
   ]
  },
  {
   "cell_type": "markdown",
   "id": "452e422a",
   "metadata": {},
   "source": [
    "### Test 9 weeks"
   ]
  },
  {
   "cell_type": "code",
   "execution_count": 120,
   "id": "2a8d54b4",
   "metadata": {},
   "outputs": [
    {
     "data": {
      "text/plain": [
       "0.8831062104207463"
      ]
     },
     "execution_count": 120,
     "metadata": {},
     "output_type": "execute_result"
    }
   ],
   "source": [
    "# Create final - 9 weeks standardized customer data (last order : 2018-07-02)\n",
    "# Standard Scaler fit on F9weeks\n",
    "F9weeks = filter_date_and_fit('2018-07-03')\n",
    "\n",
    "# Create initial model at Tfinal - 9 weeks = T9weeks\n",
    "km9 = KMeans(n_clusters = 5,\n",
    "             max_iter = 300,\n",
    "             n_init = 10,\n",
    "             init = 'k-means++')\n",
    "km9.fit(F9weeks)\n",
    "\n",
    "# Create final standardized customer data (last order : 2018-09-03)\n",
    "# Standard Scaler fit on F9weeks\n",
    "Ffinal_predict_9 = filter_date_and_predict('2018-07-03')\n",
    "\n",
    "# Predict clusters at Tfinal using (Tfinal - 9 weeks) KMeans model\n",
    "labels_k_means_final_predict_9 = km9.predict(Ffinal_predict_9)\n",
    "\n",
    "# Calculate rand score\n",
    "RI_9_weeks = rand_score(labels_k_means_final_fit, labels_k_means_final_predict_9)\n",
    "RI_9_weeks"
   ]
  },
  {
   "cell_type": "markdown",
   "id": "02df39ef",
   "metadata": {},
   "source": [
    "### Test 10 weeks"
   ]
  },
  {
   "cell_type": "code",
   "execution_count": 121,
   "id": "5922cddc",
   "metadata": {},
   "outputs": [
    {
     "data": {
      "text/plain": [
       "0.8793368903896136"
      ]
     },
     "execution_count": 121,
     "metadata": {},
     "output_type": "execute_result"
    }
   ],
   "source": [
    "# Create final - 10 weeks standardized customer data (last order : 2018-06-25)\n",
    "# Standard Scaler fit on F10weeks\n",
    "F10weeks = filter_date_and_fit('2018-06-26')\n",
    "\n",
    "# Create initial model at Tfinal - 10 weeks = T10weeks\n",
    "km10 = KMeans(n_clusters = 5,\n",
    "             max_iter = 300,\n",
    "             n_init = 10,\n",
    "             init = 'k-means++')\n",
    "km10.fit(F10weeks)\n",
    "\n",
    "# Create final standardized customer data (last order : 2018-09-03)\n",
    "# Standard Scaler fit on F10weeks\n",
    "Ffinal_predict_10 = filter_date_and_predict('2018-06-26')\n",
    "\n",
    "# Predict clusters at Tfinal using (Tfinal - 10 weeks) KMeans model\n",
    "labels_k_means_final_predict_10 = km10.predict(Ffinal_predict_10)\n",
    "\n",
    "# Calculate rand score\n",
    "RI_10_weeks = rand_score(labels_k_means_final_fit, labels_k_means_final_predict_10)\n",
    "RI_10_weeks"
   ]
  },
  {
   "cell_type": "markdown",
   "id": "ac5462c6",
   "metadata": {},
   "source": [
    "### Test 11 weeks"
   ]
  },
  {
   "cell_type": "code",
   "execution_count": null,
   "id": "bc304208",
   "metadata": {},
   "outputs": [],
   "source": [
    "# Create final - 11 weeks standardized customer data (last order : 2018-06-18)\n",
    "# Standard Scaler fit on F11weeks\n",
    "F11weeks = filter_date_and_fit('2018-06-19')\n",
    "\n",
    "# Create initial model at Tfinal - 11 weeks = T11weeks\n",
    "km11 = KMeans(n_clusters = 5,\n",
    "             max_iter = 300,\n",
    "             n_init = 10,\n",
    "             init = 'k-means++')\n",
    "km11.fit(F11weeks)\n",
    "\n",
    "# Create final standardized customer data (last order : 2018-09-03)\n",
    "# Standard Scaler fit on F11weeks\n",
    "Ffinal_predict_11 = filter_date_and_predict('2018-06-19')\n",
    "\n",
    "# Predict clusters at Tfinal using (Tfinal - 11 weeks) KMeans model\n",
    "labels_k_means_final_predict_11 = km11.predict(Ffinal_predict_11)\n",
    "\n",
    "# Calculate rand score\n",
    "RI_11_weeks = rand_score(labels_k_means_final_fit, labels_k_means_final_predict_11)\n",
    "RI_11_weeks"
   ]
  },
  {
   "cell_type": "markdown",
   "id": "1d2782b6",
   "metadata": {},
   "source": [
    "### Test 12 weeks"
   ]
  },
  {
   "cell_type": "code",
   "execution_count": null,
   "id": "694901b7",
   "metadata": {},
   "outputs": [],
   "source": [
    "# Create final - 12 weeks standardized customer data (last order : 2018-06-11)\n",
    "# Standard Scaler fit on F12weeks\n",
    "F12weeks = filter_date_and_fit('2018-06-12')\n",
    "\n",
    "# Create initial model at Tfinal - 12 weeks = T12weeks\n",
    "km12 = KMeans(n_clusters = 5,\n",
    "             max_iter = 300,\n",
    "             n_init = 10,\n",
    "             init = 'k-means++')\n",
    "km12.fit(F12weeks)\n",
    "\n",
    "# Create final standardized customer data (last order : 2018-09-03)\n",
    "# Standard Scaler fit on F12weeks\n",
    "Ffinal_predict_12 = filter_date_and_predict('2018-06-12')\n",
    "\n",
    "# Predict clusters at Tfinal using (Tfinal - 12 weeks) KMeans model\n",
    "labels_k_means_final_predict_12 = km12.predict(Ffinal_predict_12)\n",
    "\n",
    "# Calculate rand score\n",
    "RI_12_weeks = rand_score(labels_k_means_final_fit, labels_k_means_final_predict_12)\n",
    "RI_12_weeks"
   ]
  },
  {
   "cell_type": "markdown",
   "id": "b1a4dce6",
   "metadata": {},
   "source": [
    "### Test 13 weeks"
   ]
  },
  {
   "cell_type": "code",
   "execution_count": null,
   "id": "05ebc2c6",
   "metadata": {},
   "outputs": [],
   "source": [
    "# Create final - 13 weeks standardized customer data (last order : 2018-06-04)\n",
    "# Standard Scaler fit on F13weeks\n",
    "F13weeks = filter_date_and_fit('2018-06-05')\n",
    "\n",
    "# Create initial model at Tfinal - 13 weeks = T13weeks\n",
    "km13 = KMeans(n_clusters = 5,\n",
    "             max_iter = 300,\n",
    "             n_init = 10,\n",
    "             init = 'k-means++')\n",
    "km13.fit(F13weeks)\n",
    "\n",
    "# Create final standardized customer data (last order : 2018-09-03)\n",
    "# Standard Scaler fit on F13weeks\n",
    "Ffinal_predict_13 = filter_date_and_predict('2018-06-05')\n",
    "\n",
    "# Predict clusters at Tfinal using (Tfinal - 13 weeks) KMeans model\n",
    "labels_k_means_final_predict_13 = km13.predict(Ffinal_predict_13)\n",
    "\n",
    "# Calculate rand score\n",
    "RI_13_weeks = rand_score(labels_k_means_final_fit, labels_k_means_final_predict_13)\n",
    "RI_13_weeks"
   ]
  },
  {
   "cell_type": "markdown",
   "id": "b6b13c70",
   "metadata": {},
   "source": [
    "### Test 14 weeks"
   ]
  },
  {
   "cell_type": "code",
   "execution_count": null,
   "id": "aa432118",
   "metadata": {},
   "outputs": [],
   "source": [
    "# Create final - 14 weeks standardized customer data (last order : 2018-05-28)\n",
    "# Standard Scaler fit on F14weeks\n",
    "F14weeks = filter_date_and_fit('2018-05-29')\n",
    "\n",
    "# Create initial model at Tfinal - 14 weeks = T14weeks\n",
    "km14 = KMeans(n_clusters = 5,\n",
    "             max_iter = 300,\n",
    "             n_init = 10,\n",
    "             init = 'k-means++')\n",
    "km14.fit(F14weeks)\n",
    "\n",
    "# Create final standardized customer data (last order : 2018-09-03)\n",
    "# Standard Scaler fit on F14weeks\n",
    "Ffinal_predict_14 = filter_date_and_predict('2018-05-29')\n",
    "\n",
    "# Predict clusters at Tfinal using (Tfinal - 14 weeks) KMeans model\n",
    "labels_k_means_final_predict_14 = km14.predict(Ffinal_predict_14)\n",
    "\n",
    "# Calculate rand score\n",
    "RI_14_weeks = rand_score(labels_k_means_final_fit, labels_k_means_final_predict_14)\n",
    "RI_14_weeks"
   ]
  },
  {
   "cell_type": "markdown",
   "id": "df06c54d",
   "metadata": {},
   "source": [
    "### Test 15 weeks"
   ]
  },
  {
   "cell_type": "code",
   "execution_count": null,
   "id": "763ed70c",
   "metadata": {},
   "outputs": [],
   "source": [
    "# Create final - 15 weeks standardized customer data (last order : 2018-05-21)\n",
    "# Standard Scaler fit on F15weeks\n",
    "F14weeks = filter_date_and_fit('2018-05-22')\n",
    "\n",
    "# Create initial model at Tfinal - 15 weeks = T15weeks\n",
    "km15 = KMeans(n_clusters = 5,\n",
    "             max_iter = 300,\n",
    "             n_init = 10,\n",
    "             init = 'k-means++')\n",
    "km15.fit(F15weeks)\n",
    "\n",
    "# Create final standardized customer data (last order : 2018-09-03)\n",
    "# Standard Scaler fit on F15weeks\n",
    "Ffinal_predict_15 = filter_date_and_predict('2018-05-22')\n",
    "\n",
    "# Predict clusters at Tfinal using (Tfinal - 15 weeks) KMeans model\n",
    "labels_k_means_final_predict_15 = km15.predict(Ffinal_predict_15)\n",
    "\n",
    "# Calculate rand score\n",
    "RI_15_weeks = rand_score(labels_k_means_final_fit, labels_k_means_final_predict_15)\n",
    "RI_15_weeks"
   ]
  },
  {
   "cell_type": "markdown",
   "id": "3fd7d75f",
   "metadata": {},
   "source": [
    "### Test 16 weeks"
   ]
  },
  {
   "cell_type": "code",
   "execution_count": 122,
   "id": "6aa9f1df",
   "metadata": {},
   "outputs": [
    {
     "data": {
      "text/plain": [
       "0.8418190044688855"
      ]
     },
     "execution_count": 122,
     "metadata": {},
     "output_type": "execute_result"
    }
   ],
   "source": [
    "# Create final - 16 weeks standardized customer data (last order : 2018-05-14)\n",
    "# Standard Scaler fit on F16weeks\n",
    "F16weeks = filter_date_and_fit('2018-05-15')\n",
    "\n",
    "# Create initial model at Tfinal - 16 weeks = T16weeks\n",
    "km16 = KMeans(n_clusters = 5,\n",
    "             max_iter = 300,\n",
    "             n_init = 10,\n",
    "             init = 'k-means++')\n",
    "km16.fit(F16weeks)\n",
    "\n",
    "# Create final standardized customer data (last order : 2018-09-03)\n",
    "# Standard Scaler fit on F16weeks\n",
    "Ffinal_predict_16 = filter_date_and_predict('2018-05-15')\n",
    "\n",
    "# Predict clusters at Tfinal using (Tfinal - 16 weeks) KMeans model\n",
    "labels_k_means_final_predict_16 = km16.predict(Ffinal_predict_16)\n",
    "\n",
    "# Calculate rand score\n",
    "RI_16_weeks = rand_score(labels_k_means_final_fit, labels_k_means_final_predict_16)\n",
    "RI_16_weeks"
   ]
  },
  {
   "cell_type": "markdown",
   "id": "8782f1e1",
   "metadata": {},
   "source": [
    "### Test 17 weeks"
   ]
  },
  {
   "cell_type": "code",
   "execution_count": null,
   "id": "dc6456b8",
   "metadata": {},
   "outputs": [],
   "source": [
    "# Create final - 17 weeks standardized customer data (last order : 2018-05-07)\n",
    "# Standard Scaler fit on F17weeks\n",
    "F17weeks = filter_date_and_fit('2018-05-08')\n",
    "\n",
    "# Create initial model at Tfinal - 17 weeks = T17weeks\n",
    "km17 = KMeans(n_clusters = 5,\n",
    "             max_iter = 300,\n",
    "             n_init = 10,\n",
    "             init = 'k-means++')\n",
    "km17.fit(F17weeks)\n",
    "\n",
    "# Create final standardized customer data (last order : 2018-09-03)\n",
    "# Standard Scaler fit on F17weeks\n",
    "Ffinal_predict_17 = filter_date_and_predict('2018-05-08')\n",
    "\n",
    "# Predict clusters at Tfinal using (Tfinal - 17 weeks) KMeans model\n",
    "labels_k_means_final_predict_17 = km17.predict(Ffinal_predict_17)\n",
    "\n",
    "# Calculate rand score\n",
    "RI_17_weeks = rand_score(labels_k_means_final_fit, labels_k_means_final_predict_17)\n",
    "RI_17_weeks"
   ]
  },
  {
   "cell_type": "markdown",
   "id": "1b8ced52",
   "metadata": {},
   "source": [
    "### Test 18 weeks"
   ]
  },
  {
   "cell_type": "code",
   "execution_count": 123,
   "id": "22052d8d",
   "metadata": {},
   "outputs": [
    {
     "data": {
      "text/plain": [
       "0.8260530559859725"
      ]
     },
     "execution_count": 123,
     "metadata": {},
     "output_type": "execute_result"
    }
   ],
   "source": [
    "# Create final - 18 weeks standardized customer data (last order : 2018-04-30)\n",
    "# Standard Scaler fit on F18weeks\n",
    "F18weeks = filter_date_and_fit('2018-05-01')\n",
    "\n",
    "# Create initial model at Tfinal - 18 weeks = T18weeks\n",
    "km18 = KMeans(n_clusters = 5,\n",
    "             max_iter = 300,\n",
    "             n_init = 10,\n",
    "             init = 'k-means++')\n",
    "km18.fit(F18weeks)\n",
    "\n",
    "# Create final standardized customer data (last order : 2018-09-03)\n",
    "# Standard Scaler fit on F18weeks\n",
    "Ffinal_predict_18 = filter_date_and_predict('2018-05-01')\n",
    "\n",
    "# Predict clusters at Tfinal using (Tfinal - 18 weeks) KMeans model\n",
    "labels_k_means_final_predict_18 = km18.predict(Ffinal_predict_18)\n",
    "\n",
    "# Calculate rand score\n",
    "RI_18_weeks = rand_score(labels_k_means_final_fit, labels_k_means_final_predict_18)\n",
    "RI_18_weeks"
   ]
  },
  {
   "cell_type": "markdown",
   "id": "c6fb7d50",
   "metadata": {},
   "source": [
    "### Test 19 weeks"
   ]
  },
  {
   "cell_type": "code",
   "execution_count": null,
   "id": "4e2d3069",
   "metadata": {},
   "outputs": [],
   "source": [
    "# Create final - 18 weeks standardized customer data (last order : 2018-04-23)\n",
    "# Standard Scaler fit on F18weeks\n",
    "F18weeks = filter_date_and_fit('2018-04-24')\n",
    "\n",
    "# Create initial model at Tfinal - 18 weeks = T18weeks\n",
    "km18 = KMeans(n_clusters = 5,\n",
    "             max_iter = 300,\n",
    "             n_init = 10,\n",
    "             init = 'k-means++')\n",
    "km18.fit(F18weeks)\n",
    "\n",
    "# Create final standardized customer data (last order : 2018-09-03)\n",
    "# Standard Scaler fit on F18weeks\n",
    "Ffinal_predict_18 = filter_date_and_predict('2018-04-24')\n",
    "\n",
    "# Predict clusters at Tfinal using (Tfinal - 18 weeks) KMeans model\n",
    "labels_k_means_final_predict_18 = km18.predict(Ffinal_predict_18)\n",
    "\n",
    "# Calculate rand score\n",
    "RI_18_weeks = rand_score(labels_k_means_final_fit, labels_k_means_final_predict_18)\n",
    "RI_18_weeks"
   ]
  },
  {
   "cell_type": "markdown",
   "id": "28a56a8b",
   "metadata": {},
   "source": [
    "### Test 20 weeks"
   ]
  },
  {
   "cell_type": "code",
   "execution_count": null,
   "id": "9cd1d700",
   "metadata": {},
   "outputs": [],
   "source": [
    "# Create final - 18 weeks standardized customer data (last order : 2018-04-16)\n",
    "# Standard Scaler fit on F18weeks\n",
    "F18weeks = filter_date_and_fit('2018-04-17')\n",
    "\n",
    "# Create initial model at Tfinal - 18 weeks = T18weeks\n",
    "km18 = KMeans(n_clusters = 5,\n",
    "             max_iter = 300,\n",
    "             n_init = 10,\n",
    "             init = 'k-means++')\n",
    "km18.fit(F18weeks)\n",
    "\n",
    "# Create final standardized customer data (last order : 2018-09-03)\n",
    "# Standard Scaler fit on F18weeks\n",
    "Ffinal_predict_18 = filter_date_and_predict('2018-04-17')\n",
    "\n",
    "# Predict clusters at Tfinal using (Tfinal - 18 weeks) KMeans model\n",
    "labels_k_means_final_predict_18 = km18.predict(Ffinal_predict_18)\n",
    "\n",
    "# Calculate rand score\n",
    "RI_18_weeks = rand_score(labels_k_means_final_fit, labels_k_means_final_predict_18)\n",
    "RI_18_weeks"
   ]
  },
  {
   "cell_type": "markdown",
   "id": "cb10a0e8",
   "metadata": {},
   "source": [
    "### Test 21 weeks"
   ]
  },
  {
   "cell_type": "code",
   "execution_count": null,
   "id": "b33195e4",
   "metadata": {},
   "outputs": [],
   "source": [
    "# Create final - 21 weeks standardized customer data (last order : 2018-04-09)\n",
    "# Standard Scaler fit on F21weeks\n",
    "F21weeks = filter_date_and_fit('2018-04-10')\n",
    "\n",
    "# Create initial model at Tfinal - 21 weeks = T21weeks\n",
    "km21 = KMeans(n_clusters = 5,\n",
    "             max_iter = 300,\n",
    "             n_init = 10,\n",
    "             init = 'k-means++')\n",
    "km21.fit(F21weeks)\n",
    "\n",
    "# Create final standardized customer data (last order : 2018-09-03)\n",
    "# Standard Scaler fit on F21weeks\n",
    "Ffinal_predict_21 = filter_date_and_predict('2018-04-10')\n",
    "\n",
    "# Predict clusters at Tfinal using (Tfinal - 21 weeks) KMeans model\n",
    "labels_k_means_final_predict_21 = km21.predict(Ffinal_predict_21)\n",
    "\n",
    "# Calculate rand score\n",
    "RI_21_weeks = rand_score(labels_k_means_final_fit, labels_k_means_final_predict_21)\n",
    "RI_21_weeks"
   ]
  },
  {
   "cell_type": "markdown",
   "id": "ce6d7577",
   "metadata": {},
   "source": [
    "### Test 22 weeks"
   ]
  },
  {
   "cell_type": "code",
   "execution_count": 124,
   "id": "afd1eda3",
   "metadata": {},
   "outputs": [
    {
     "data": {
      "text/plain": [
       "0.8245479665458472"
      ]
     },
     "execution_count": 124,
     "metadata": {},
     "output_type": "execute_result"
    }
   ],
   "source": [
    "# Create final - 22 weeks standardized customer data (last order : 2018-04-02)\n",
    "# Standard Scaler fit on F22weeks\n",
    "F22weeks = filter_date_and_fit('2018-04-03')\n",
    "\n",
    "# Create initial model at Tfinal - 22 weeks = T18weeks\n",
    "km22 = KMeans(n_clusters = 5,\n",
    "             max_iter = 300,\n",
    "             n_init = 10,\n",
    "             init = 'k-means++')\n",
    "km22.fit(F22weeks)\n",
    "\n",
    "# Create final standardized customer data (last order : 2018-09-03)\n",
    "# Standard Scaler fit on F22weeks\n",
    "Ffinal_predict_22 = filter_date_and_predict('2018-04-03')\n",
    "\n",
    "# Predict clusters at Tfinal using (Tfinal - 22 weeks) KMeans model\n",
    "labels_k_means_final_predict_22 = km22.predict(Ffinal_predict_22)\n",
    "\n",
    "# Calculate rand score\n",
    "RI_22_weeks = rand_score(labels_k_means_final_fit, labels_k_means_final_predict_22)\n",
    "RI_22_weeks"
   ]
  },
  {
   "cell_type": "markdown",
   "id": "1a22db89",
   "metadata": {},
   "source": [
    "### Test 23 weeks"
   ]
  },
  {
   "cell_type": "code",
   "execution_count": null,
   "id": "d18c15a8",
   "metadata": {},
   "outputs": [],
   "source": [
    "# Create final - 23 weeks standardized customer data (last order : 2018-03-26)\n",
    "# Standard Scaler fit on F23weeks\n",
    "F23weeks = filter_date_and_fit('2018-03-27')\n",
    "\n",
    "# Create initial model at Tfinal - 23 weeks = T23weeks\n",
    "km23 = KMeans(n_clusters = 5,\n",
    "             max_iter = 300,\n",
    "             n_init = 10,\n",
    "             init = 'k-means++')\n",
    "km23.fit(F23weeks)\n",
    "\n",
    "# Create final standardized customer data (last order : 2018-09-03)\n",
    "# Standard Scaler fit on F23weeks\n",
    "Ffinal_predict_23 = filter_date_and_predict('2018-03-27')\n",
    "\n",
    "# Predict clusters at Tfinal using (Tfinal - 23 weeks) KMeans model\n",
    "labels_k_means_final_predict_23 = km23.predict(Ffinal_predict_23)\n",
    "\n",
    "# Calculate rand score\n",
    "RI_23_weeks = rand_score(labels_k_means_final_fit, labels_k_means_final_predict_23)\n",
    "RI_23_weeks"
   ]
  },
  {
   "cell_type": "code",
   "execution_count": 125,
   "id": "8ed0982b",
   "metadata": {},
   "outputs": [
    {
     "data": {
      "text/plain": [
       "0.8190812560080429"
      ]
     },
     "execution_count": 125,
     "metadata": {},
     "output_type": "execute_result"
    }
   ],
   "source": [
    "# Create final - 24 weeks standardized customer data (last order : 2018-03-19)\n",
    "# Standard Scaler fit on F24weeks\n",
    "F24weeks = filter_date_and_fit('2018-03-20')\n",
    "\n",
    "# Create initial model at Tfinal - 24 weeks = T24weeks\n",
    "km24 = KMeans(n_clusters = 5,\n",
    "             max_iter = 300,\n",
    "             n_init = 10,\n",
    "             init = 'k-means++')\n",
    "km24.fit(F24weeks)\n",
    "\n",
    "# Create final standardized customer data (last order : 2018-09-03)\n",
    "# Standard Scaler fit on F24weeks\n",
    "Ffinal_predict_24 = filter_date_and_predict('2018-03-20')\n",
    "\n",
    "# Predict clusters at Tfinal using (Tfinal - 24 weeks) KMeans model\n",
    "labels_k_means_final_predict_24 = km24.predict(Ffinal_predict_24)\n",
    "\n",
    "# Calculate rand score\n",
    "RI_24_weeks = rand_score(labels_k_means_final_fit, labels_k_means_final_predict_24)\n",
    "RI_24_weeks"
   ]
  },
  {
   "cell_type": "code",
   "execution_count": null,
   "id": "5db65c71",
   "metadata": {},
   "outputs": [],
   "source": [
    "# Create final - 25 weeks standardized customer data (last order : 2018-03-12)\n",
    "# Standard Scaler fit on F25weeks\n",
    "F25weeks = filter_date_and_fit('2018-03-13')\n",
    "\n",
    "# Create initial model at Tfinal - 25 weeks = T25weeks\n",
    "km25 = KMeans(n_clusters = 5,\n",
    "             max_iter = 300,\n",
    "             n_init = 10,\n",
    "             init = 'k-means++')\n",
    "km25.fit(F25weeks)\n",
    "\n",
    "# Create final standardized customer data (last order : 2018-09-03)\n",
    "# Standard Scaler fit on F25weeks\n",
    "Ffinal_predict_25 = filter_date_and_predict('2018-03-13')\n",
    "\n",
    "# Predict clusters at Tfinal using (Tfinal - 25 weeks) KMeans model\n",
    "labels_k_means_final_predict_25 = km25.predict(Ffinal_predict_25)\n",
    "\n",
    "# Calculate rand score\n",
    "RI_25_weeks = rand_score(labels_k_means_final_fit, labels_k_means_final_predict_25)\n",
    "RI_25_weeks"
   ]
  },
  {
   "cell_type": "code",
   "execution_count": null,
   "id": "37b6253d",
   "metadata": {},
   "outputs": [],
   "source": [
    "# Create final - 25 weeks standardized customer data (last order : 2018-03-12)\n",
    "# Standard Scaler fit on F25weeks\n",
    "F25weeks = filter_date_and_fit('2018-03-13')\n",
    "\n",
    "# Create initial model at Tfinal - 25 weeks = T25weeks\n",
    "km25 = KMeans(n_clusters = 5,\n",
    "             max_iter = 300,\n",
    "             n_init = 10,\n",
    "             init = 'k-means++')\n",
    "km25.fit(F25weeks)\n",
    "\n",
    "# Create final standardized customer data (last order : 2018-09-03)\n",
    "# Standard Scaler fit on F25weeks\n",
    "Ffinal_predict_25 = filter_date_and_predict('2018-03-13')\n",
    "\n",
    "# Predict clusters at Tfinal using (Tfinal - 25 weeks) KMeans model\n",
    "labels_k_means_final_predict_25 = km25.predict(Ffinal_predict_25)\n",
    "\n",
    "# Calculate rand score\n",
    "RI_25_weeks = rand_score(labels_k_means_final_fit, labels_k_means_final_predict_25)\n",
    "RI_25_weeks"
   ]
  },
  {
   "cell_type": "code",
   "execution_count": null,
   "id": "93077e18",
   "metadata": {},
   "outputs": [],
   "source": [
    "# Create final - 26 weeks standardized customer data (last order : 2018-03-05)\n",
    "# Standard Scaler fit on F26weeks\n",
    "F26weeks = filter_date_and_fit('2018-03-06')\n",
    "\n",
    "# Create initial model at Tfinal - 26 weeks = T26weeks\n",
    "km26 = KMeans(n_clusters = 5,\n",
    "             max_iter = 300,\n",
    "             n_init = 10,\n",
    "             init = 'k-means++')\n",
    "km26.fit(F26weeks)\n",
    "\n",
    "# Create final standardized customer data (last order : 2018-09-03)\n",
    "# Standard Scaler fit on F26weeks\n",
    "Ffinal_predict_26 = filter_date_and_predict('2018-03-06')\n",
    "\n",
    "# Predict clusters at Tfinal using (Tfinal - 26 weeks) KMeans model\n",
    "labels_k_means_final_predict_26 = km26.predict(Ffinal_predict_26)\n",
    "\n",
    "# Calculate rand score\n",
    "RI_26_weeks = rand_score(labels_k_means_final_fit, labels_k_means_final_predict_26)\n",
    "RI_26_weeks"
   ]
  },
  {
   "cell_type": "code",
   "execution_count": 126,
   "id": "9b1d9e93",
   "metadata": {},
   "outputs": [
    {
     "data": {
      "text/plain": [
       "0.7776287495163605"
      ]
     },
     "execution_count": 126,
     "metadata": {},
     "output_type": "execute_result"
    }
   ],
   "source": [
    "# Create final - 27 weeks standardized customer data (last order : 2018-02-26)\n",
    "# Standard Scaler fit on F27weeks\n",
    "F27weeks = filter_date_and_fit('2018-02-27')\n",
    "\n",
    "# Create initial model at Tfinal - 27 weeks = T27weeks\n",
    "km27 = KMeans(n_clusters = 5,\n",
    "             max_iter = 300,\n",
    "             n_init = 10,\n",
    "             init = 'k-means++')\n",
    "km27.fit(F27weeks)\n",
    "\n",
    "# Create final standardized customer data (last order : 2018-09-03)\n",
    "# Standard Scaler fit on F27weeks\n",
    "Ffinal_predict_27 = filter_date_and_predict('2018-02-27')\n",
    "\n",
    "# Predict clusters at Tfinal using (Tfinal - 27 weeks) KMeans model\n",
    "labels_k_means_final_predict_27 = km27.predict(Ffinal_predict_27)\n",
    "\n",
    "# Calculate rand score\n",
    "RI_27_weeks = rand_score(labels_k_means_final_fit, labels_k_means_final_predict_27)\n",
    "RI_27_weeks"
   ]
  },
  {
   "cell_type": "code",
   "execution_count": null,
   "id": "d77fd74e",
   "metadata": {},
   "outputs": [],
   "source": [
    "# Create final - 28 weeks standardized customer data (last order : 2018-02-19)\n",
    "# Standard Scaler fit on F28weeks\n",
    "F28weeks = filter_date_and_fit('2018-02-20')\n",
    "\n",
    "# Create initial model at Tfinal - 28 weeks = T28weeks\n",
    "km28 = KMeans(n_clusters = 5,\n",
    "             max_iter = 300,\n",
    "             n_init = 10,\n",
    "             init = 'k-means++')\n",
    "km28.fit(F28weeks)\n",
    "\n",
    "# Create final standardized customer data (last order : 2018-09-03)\n",
    "# Standard Scaler fit on F28weeks\n",
    "Ffinal_predict_28 = filter_date_and_predict('2018-02-20')\n",
    "\n",
    "# Predict clusters at Tfinal using (Tfinal - 28 weeks) KMeans model\n",
    "labels_k_means_final_predict_28 = km28.predict(Ffinal_predict_28)\n",
    "\n",
    "# Calculate rand score\n",
    "RI_28_weeks = rand_score(labels_k_means_final_fit, labels_k_means_final_predict_28)\n",
    "RI_28_weeks"
   ]
  },
  {
   "cell_type": "code",
   "execution_count": null,
   "id": "2de4ec83",
   "metadata": {},
   "outputs": [],
   "source": [
    "# Create final - 29 weeks standardized customer data (last order : 2018-02-12)\n",
    "# Standard Scaler fit on F29weeks\n",
    "F29weeks = filter_date_and_fit('2018-02-13')\n",
    "\n",
    "# Create initial model at Tfinal - 29 weeks = T29weeks\n",
    "km29 = KMeans(n_clusters = 5,\n",
    "             max_iter = 300,\n",
    "             n_init = 10,\n",
    "             init = 'k-means++')\n",
    "km29.fit(F29weeks)\n",
    "\n",
    "# Create final standardized customer data (last order : 2018-09-03)\n",
    "# Standard Scaler fit on F29weeks\n",
    "Ffinal_predict_29 = filter_date_and_predict('2018-02-13')\n",
    "\n",
    "# Predict clusters at Tfinal using (Tfinal - 29 weeks) KMeans model\n",
    "labels_k_means_final_predict_29 = km29.predict(Ffinal_predict_29)\n",
    "\n",
    "# Calculate rand score\n",
    "RI_29_weeks = rand_score(labels_k_means_final_fit, labels_k_means_final_predict_29)\n",
    "RI_29_weeks"
   ]
  },
  {
   "cell_type": "code",
   "execution_count": null,
   "id": "356e4265",
   "metadata": {},
   "outputs": [],
   "source": []
  },
  {
   "cell_type": "code",
   "execution_count": null,
   "id": "7a14c0bf",
   "metadata": {},
   "outputs": [],
   "source": []
  },
  {
   "cell_type": "code",
   "execution_count": null,
   "id": "1adc89d2",
   "metadata": {},
   "outputs": [],
   "source": []
  },
  {
   "cell_type": "code",
   "execution_count": null,
   "id": "b3b6e6fc",
   "metadata": {},
   "outputs": [],
   "source": []
  },
  {
   "cell_type": "markdown",
   "id": "868919c5",
   "metadata": {},
   "source": [
    "## Visualisation"
   ]
  },
  {
   "cell_type": "code",
   "execution_count": null,
   "id": "5e5f2dcc",
   "metadata": {},
   "outputs": [],
   "source": []
  }
 ],
 "metadata": {
  "kernelspec": {
   "display_name": "Python 3",
   "language": "python",
   "name": "python3"
  },
  "language_info": {
   "codemirror_mode": {
    "name": "ipython",
    "version": 3
   },
   "file_extension": ".py",
   "mimetype": "text/x-python",
   "name": "python",
   "nbconvert_exporter": "python",
   "pygments_lexer": "ipython3",
   "version": "3.8.8"
  }
 },
 "nbformat": 4,
 "nbformat_minor": 5
}
