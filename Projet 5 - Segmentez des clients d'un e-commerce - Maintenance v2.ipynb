{
 "cells": [
  {
   "cell_type": "code",
   "execution_count": 1,
   "id": "06e14491",
   "metadata": {},
   "outputs": [],
   "source": [
    "# Import main librairies\n",
    "import pandas as pd\n",
    "import numpy as np\n",
    "import seaborn as sns\n",
    "import matplotlib.pyplot as plt\n",
    "\n",
    "# For images\n",
    "from IPython.display import Image\n",
    "\n",
    "# Ignore warning parts\n",
    "import warnings\n",
    "warnings.filterwarnings(\"ignore\")"
   ]
  },
  {
   "cell_type": "code",
   "execution_count": 5,
   "id": "ecc8dff5",
   "metadata": {},
   "outputs": [],
   "source": [
    "data = pd.read_csv('data_clustering.csv', sep=';')"
   ]
  },
  {
   "cell_type": "code",
   "execution_count": 15,
   "id": "238a77f9",
   "metadata": {},
   "outputs": [],
   "source": [
    "orders = pd.read_csv('olist_orders_dataset.csv', sep=',')\n",
    "order_reviews = pd.read_csv('olist_order_reviews_dataset.csv', sep=',')\n",
    "order_items = pd.read_csv('olist_order_items_dataset.csv', sep=',')\n",
    "customers = pd.read_csv('olist_customers_dataset.csv', sep=',')"
   ]
  },
  {
   "cell_type": "code",
   "execution_count": 20,
   "id": "048261e9",
   "metadata": {},
   "outputs": [],
   "source": [
    "# Create dataframe 'orders_order_reviews'\n",
    "orders_order_reviews = pd.merge(orders[['order_id',\n",
    "                                        'customer_id',\n",
    "                                        'order_purchase_timestamp']],\n",
    "                               order_reviews[['review_id',\n",
    "                                              'order_id',\n",
    "                                              'review_score',\n",
    "                                             'review_creation_date']])"
   ]
  },
  {
   "cell_type": "code",
   "execution_count": 21,
   "id": "26149fbd",
   "metadata": {},
   "outputs": [],
   "source": [
    "# We keep only the most recent review for each order_id ('order_id')\n",
    "orders_order_reviews = orders_order_reviews.sort_values(by = 'review_creation_date', \n",
    "                                                        ascending = False)\n",
    "orders_order_reviews = orders_order_reviews.drop_duplicates(subset = ['order_id'],\n",
    "                                                            keep ='first')"
   ]
  },
  {
   "cell_type": "code",
   "execution_count": 23,
   "id": "601a6c21",
   "metadata": {},
   "outputs": [],
   "source": [
    "# Merge datasets\n",
    "orders_customers = pd.merge(orders_order_reviews[['order_id',\n",
    "                                                  'customer_id',\n",
    "                                                  'order_purchase_timestamp',\n",
    "                                                 'review_id', \n",
    "                                                  'review_score']],\n",
    "                           customers[['customer_id',\n",
    "                                      'customer_unique_id']])\n",
    "\n",
    "orders_customers = pd.merge(orders_customers,\n",
    "                            order_items[['order_id',\n",
    "                                         'order_item_id',\n",
    "                                         'product_id',\n",
    "                                         'price']])"
   ]
  },
  {
   "cell_type": "code",
   "execution_count": 25,
   "id": "8ea20d9e",
   "metadata": {},
   "outputs": [],
   "source": [
    "from datetime import datetime, date, time\n",
    "\n",
    "# Change dtypes 'object' to 'datetime'\n",
    "orders_customers['order_purchase_timestamp'] = pd.to_datetime(orders_customers['order_purchase_timestamp'])\n",
    "\n",
    "# Calculate duration between today and order_purchase_timestamp\n",
    "orders_customers['last_order'] = (datetime.now() - orders_customers['order_purchase_timestamp'])\n",
    "\n",
    "# Keep number of days only\n",
    "orders_customers['last_order_days'] = orders_customers['last_order'].astype(str).str[:4].astype(int)"
   ]
  },
  {
   "cell_type": "code",
   "execution_count": 31,
   "id": "0243a08d",
   "metadata": {},
   "outputs": [
    {
     "data": {
      "text/plain": [
       "(81157, 11)"
      ]
     },
     "execution_count": 31,
     "metadata": {},
     "output_type": "execute_result"
    }
   ],
   "source": [
    "# Creating dataframe with no duplicates (1 product/1 purchage for each customer): \n",
    "# Dropping all 'customer_unique_id\" duplicates\n",
    "df_no_duplicates = orders_customers.drop_duplicates(subset = ['customer_unique_id'],\n",
    "                                                    keep = False)\n",
    "df_no_duplicates.shape"
   ]
  },
  {
   "cell_type": "code",
   "execution_count": 32,
   "id": "fb045a1a",
   "metadata": {},
   "outputs": [
    {
     "data": {
      "text/plain": [
       "(28161, 11)"
      ]
     },
     "execution_count": 32,
     "metadata": {},
     "output_type": "execute_result"
    }
   ],
   "source": [
    "# Creating dataframe only with duplicates (several products and several purchases)\n",
    "df_duplicates = orders_customers.loc[orders_customers['customer_unique_id'].duplicated(keep = False) == True]\n",
    "df_duplicates.shape"
   ]
  },
  {
   "cell_type": "code",
   "execution_count": 34,
   "id": "6431236c",
   "metadata": {},
   "outputs": [],
   "source": [
    "# Change names of features\n",
    "df_no_duplicates = df_no_duplicates.rename(columns={'customer_unique_id' : 'Customer',\n",
    "                                                    'price' : 'payments_total',\n",
    "                                                    'review_score' : 'review_score_mean'})\n",
    "# Create new feature : number of purchases\n",
    "df_no_duplicates['number_of_purchases'] = 1"
   ]
  },
  {
   "cell_type": "code",
   "execution_count": 59,
   "id": "e3f03d33",
   "metadata": {},
   "outputs": [],
   "source": [
    "# Select the date of the most recent purchase\n",
    "\n",
    "# Sort by date\n",
    "df_last_order = df_duplicates.sort_values('order_purchase_timestamp',\n",
    "                                          ascending = False)\n",
    "\n",
    "# Keep the line of the customer with the most recent date\n",
    "df_last_order = df_last_order.drop_duplicates(subset = ['customer_unique_id'],\n",
    "                                   keep = 'first')\n",
    "\n",
    "df_last_order = df_last_order.rename(columns={'customer_unique_id' : 'Customer'})\n",
    "\n",
    "df = df_last_order[['Customer',\n",
    "                    'order_purchase_timestamp',\n",
    "                    'last_order_days']]"
   ]
  },
  {
   "cell_type": "code",
   "execution_count": 62,
   "id": "fdadadf8",
   "metadata": {},
   "outputs": [],
   "source": [
    "# Calculate payments_total for each customer\n",
    "\n",
    "# Save index for the column \"price\" in dataframe df_duplicates\n",
    "index_price = df_duplicates.columns.get_loc('price')\n",
    "# Create list of customer_unique_id\n",
    "list_customer_unique_id = df_duplicates['customer_unique_id'].unique().tolist()\n",
    "\n",
    "# Create new column \"payments_total\" in df\n",
    "df[\"payments_total\"] = 0\n",
    "# Save index for the column \"payments_total\" in dataframe df\n",
    "index_payments_total = df.columns.get_loc('payments_total')\n",
    "\n",
    "# Reset index of dataset df_duplicates\n",
    "df_duplicates = df_duplicates.reset_index(drop = True)\n",
    "# Reset index of dataset df\n",
    "df = df.reset_index(drop = True)\n",
    "\n",
    "for customer in list_customer_unique_id:\n",
    "    # Save list of indexes corresponding to the same customer in df_duplicates\n",
    "    index_list = df_duplicates.loc[df_duplicates['customer_unique_id'] == customer].index\n",
    "    # Save index of customer in df\n",
    "    index_customer = df.loc[df['Customer'] == customer].index\n",
    "    # Add prices for each customers to obtain 'payment_total'\n",
    "    df.iloc[index_customer, index_payments_total] = df_duplicates.iloc[index_list, index_price].sum()"
   ]
  },
  {
   "cell_type": "code",
   "execution_count": 65,
   "id": "7a42e1ef",
   "metadata": {},
   "outputs": [],
   "source": [
    "# Calculate number of purchases for each customer\n",
    "\n",
    "# Create list of customer_unique_id\n",
    "list_customer_unique_id = df_duplicates['customer_unique_id'].unique().tolist()\n",
    "\n",
    "# Create new column \"number_of_purchases\" in df\n",
    "df[\"number_of_purchases\"] = 0\n",
    "# Save index for the column \"number_of_purchases\" in dataframe df\n",
    "index_number_of_purchases = df.columns.get_loc('number_of_purchases')\n",
    "\n",
    "for customer in list_customer_unique_id:\n",
    "    # Save index of customer in df\n",
    "    index_customer = df.loc[df['Customer'] == customer].index\n",
    "    # Create dataframe for each customer\n",
    "    df_customer = df_duplicates.loc[df_duplicates['customer_unique_id'] == customer]\n",
    "    # Add number_of_purchases for each customers\n",
    "    df.iloc[index_customer, index_number_of_purchases] = len(df_customer['order_id'].unique().tolist())"
   ]
  },
  {
   "cell_type": "code",
   "execution_count": 66,
   "id": "f3e80396",
   "metadata": {},
   "outputs": [],
   "source": [
    "# Calculate review_score_mean for each customer\n",
    "\n",
    "# Create list of customer_unique_id\n",
    "list_customer_unique_id = df_duplicates['customer_unique_id'].unique().tolist()\n",
    "\n",
    "# Create new column \"review_score_mean\" in df\n",
    "df[\"review_score_mean\"] = 0\n",
    "# Save index for the column \"review_score_mean\" in dataframe df\n",
    "index_review_score_mean = df.columns.get_loc('review_score_mean')\n",
    "\n",
    "for customer in list_customer_unique_id:\n",
    "    # Save index of customer in df\n",
    "    index_customer = df.loc[df['Customer'] == customer].index\n",
    "    # Create dataframe for each customer\n",
    "    df_customer = df_duplicates.loc[df_duplicates['customer_unique_id'] == customer]        \n",
    "    # Calculate the mean of review_scores for each customers to obtain 'review_score_mean'\n",
    "    df.iloc[index_customer, index_review_score_mean] = df_customer['review_score'].mean()"
   ]
  },
  {
   "cell_type": "code",
   "execution_count": 73,
   "id": "c3a38a40",
   "metadata": {},
   "outputs": [],
   "source": [
    "# Concatenate dataframes keeping only common features\n",
    "data = pd.concat([df_no_duplicates, df], join = \"inner\", ignore_index=True)"
   ]
  },
  {
   "cell_type": "code",
   "execution_count": 74,
   "id": "dd00ce24",
   "metadata": {},
   "outputs": [
    {
     "data": {
      "text/html": [
       "<div>\n",
       "<style scoped>\n",
       "    .dataframe tbody tr th:only-of-type {\n",
       "        vertical-align: middle;\n",
       "    }\n",
       "\n",
       "    .dataframe tbody tr th {\n",
       "        vertical-align: top;\n",
       "    }\n",
       "\n",
       "    .dataframe thead th {\n",
       "        text-align: right;\n",
       "    }\n",
       "</style>\n",
       "<table border=\"1\" class=\"dataframe\">\n",
       "  <thead>\n",
       "    <tr style=\"text-align: right;\">\n",
       "      <th></th>\n",
       "      <th>order_purchase_timestamp</th>\n",
       "      <th>review_score_mean</th>\n",
       "      <th>Customer</th>\n",
       "      <th>payments_total</th>\n",
       "      <th>last_order_days</th>\n",
       "      <th>number_of_purchases</th>\n",
       "    </tr>\n",
       "  </thead>\n",
       "  <tbody>\n",
       "    <tr>\n",
       "      <th>0</th>\n",
       "      <td>2018-08-14 12:28:49</td>\n",
       "      <td>4.0</td>\n",
       "      <td>0dab841685c250499b36d81dbb570ab8</td>\n",
       "      <td>70.00</td>\n",
       "      <td>1287</td>\n",
       "      <td>1</td>\n",
       "    </tr>\n",
       "    <tr>\n",
       "      <th>1</th>\n",
       "      <td>2018-08-12 20:52:56</td>\n",
       "      <td>5.0</td>\n",
       "      <td>27bbdb1c8c1324bfb03ad56475bbfb83</td>\n",
       "      <td>100.00</td>\n",
       "      <td>1288</td>\n",
       "      <td>1</td>\n",
       "    </tr>\n",
       "    <tr>\n",
       "      <th>2</th>\n",
       "      <td>2018-08-08 21:30:18</td>\n",
       "      <td>5.0</td>\n",
       "      <td>b65db3f838c1bdb9bbab3fd56b9d6977</td>\n",
       "      <td>32.00</td>\n",
       "      <td>1292</td>\n",
       "      <td>1</td>\n",
       "    </tr>\n",
       "    <tr>\n",
       "      <th>3</th>\n",
       "      <td>2018-08-15 14:29:08</td>\n",
       "      <td>1.0</td>\n",
       "      <td>ec979208947bbba310f2ad8e50963725</td>\n",
       "      <td>39.90</td>\n",
       "      <td>1286</td>\n",
       "      <td>1</td>\n",
       "    </tr>\n",
       "    <tr>\n",
       "      <th>4</th>\n",
       "      <td>2018-08-10 18:50:46</td>\n",
       "      <td>3.0</td>\n",
       "      <td>9e7f77462df10081f5a74cf47f88208d</td>\n",
       "      <td>199.99</td>\n",
       "      <td>1290</td>\n",
       "      <td>1</td>\n",
       "    </tr>\n",
       "    <tr>\n",
       "      <th>...</th>\n",
       "      <td>...</td>\n",
       "      <td>...</td>\n",
       "      <td>...</td>\n",
       "      <td>...</td>\n",
       "      <td>...</td>\n",
       "      <td>...</td>\n",
       "    </tr>\n",
       "    <tr>\n",
       "      <th>92650</th>\n",
       "      <td>2016-10-04 16:41:59</td>\n",
       "      <td>1.0</td>\n",
       "      <td>2e15add79c76241beffe812a24ad3a31</td>\n",
       "      <td>129.80</td>\n",
       "      <td>1965</td>\n",
       "      <td>1</td>\n",
       "    </tr>\n",
       "    <tr>\n",
       "      <th>92651</th>\n",
       "      <td>2016-10-04 15:02:53</td>\n",
       "      <td>1.0</td>\n",
       "      <td>a9530b74fe56ca4be9e5f2c7e7c4175a</td>\n",
       "      <td>119.80</td>\n",
       "      <td>1966</td>\n",
       "      <td>1</td>\n",
       "    </tr>\n",
       "    <tr>\n",
       "      <th>92652</th>\n",
       "      <td>2016-10-04 13:11:29</td>\n",
       "      <td>5.0</td>\n",
       "      <td>f176923a0a4ab546c7287791ccb82193</td>\n",
       "      <td>47.80</td>\n",
       "      <td>1966</td>\n",
       "      <td>1</td>\n",
       "    </tr>\n",
       "    <tr>\n",
       "      <th>92653</th>\n",
       "      <td>2016-09-15 12:16:38</td>\n",
       "      <td>1.0</td>\n",
       "      <td>830d5b7aaa3b6f1e9ad63703bec97d23</td>\n",
       "      <td>134.97</td>\n",
       "      <td>1985</td>\n",
       "      <td>1</td>\n",
       "    </tr>\n",
       "    <tr>\n",
       "      <th>92654</th>\n",
       "      <td>2016-09-04 21:15:19</td>\n",
       "      <td>1.0</td>\n",
       "      <td>b7d76e111c89f7ebf14761390f0f7d17</td>\n",
       "      <td>72.89</td>\n",
       "      <td>1995</td>\n",
       "      <td>1</td>\n",
       "    </tr>\n",
       "  </tbody>\n",
       "</table>\n",
       "<p>92655 rows × 6 columns</p>\n",
       "</div>"
      ],
      "text/plain": [
       "      order_purchase_timestamp  review_score_mean  \\\n",
       "0          2018-08-14 12:28:49                4.0   \n",
       "1          2018-08-12 20:52:56                5.0   \n",
       "2          2018-08-08 21:30:18                5.0   \n",
       "3          2018-08-15 14:29:08                1.0   \n",
       "4          2018-08-10 18:50:46                3.0   \n",
       "...                        ...                ...   \n",
       "92650      2016-10-04 16:41:59                1.0   \n",
       "92651      2016-10-04 15:02:53                1.0   \n",
       "92652      2016-10-04 13:11:29                5.0   \n",
       "92653      2016-09-15 12:16:38                1.0   \n",
       "92654      2016-09-04 21:15:19                1.0   \n",
       "\n",
       "                               Customer  payments_total  last_order_days  \\\n",
       "0      0dab841685c250499b36d81dbb570ab8           70.00             1287   \n",
       "1      27bbdb1c8c1324bfb03ad56475bbfb83          100.00             1288   \n",
       "2      b65db3f838c1bdb9bbab3fd56b9d6977           32.00             1292   \n",
       "3      ec979208947bbba310f2ad8e50963725           39.90             1286   \n",
       "4      9e7f77462df10081f5a74cf47f88208d          199.99             1290   \n",
       "...                                 ...             ...              ...   \n",
       "92650  2e15add79c76241beffe812a24ad3a31          129.80             1965   \n",
       "92651  a9530b74fe56ca4be9e5f2c7e7c4175a          119.80             1966   \n",
       "92652  f176923a0a4ab546c7287791ccb82193           47.80             1966   \n",
       "92653  830d5b7aaa3b6f1e9ad63703bec97d23          134.97             1985   \n",
       "92654  b7d76e111c89f7ebf14761390f0f7d17           72.89             1995   \n",
       "\n",
       "       number_of_purchases  \n",
       "0                        1  \n",
       "1                        1  \n",
       "2                        1  \n",
       "3                        1  \n",
       "4                        1  \n",
       "...                    ...  \n",
       "92650                    1  \n",
       "92651                    1  \n",
       "92652                    1  \n",
       "92653                    1  \n",
       "92654                    1  \n",
       "\n",
       "[92655 rows x 6 columns]"
      ]
     },
     "execution_count": 74,
     "metadata": {},
     "output_type": "execute_result"
    }
   ],
   "source": [
    "data"
   ]
  },
  {
   "cell_type": "code",
   "execution_count": 75,
   "id": "3beb324d",
   "metadata": {},
   "outputs": [],
   "source": [
    "data0 = data[['Customer',\n",
    "             'number_of_purchases',\n",
    "             'payments_total',\n",
    "             'last_order_days',\n",
    "             'review_score_mean']]\n",
    "\n",
    "data0 = data0.set_index('Customer')"
   ]
  },
  {
   "cell_type": "code",
   "execution_count": 76,
   "id": "ff6b53df",
   "metadata": {},
   "outputs": [
    {
     "data": {
      "text/plain": [
       "(92655, 4)"
      ]
     },
     "execution_count": 76,
     "metadata": {},
     "output_type": "execute_result"
    }
   ],
   "source": [
    "X0 = data0.values\n",
    "X0.shape"
   ]
  },
  {
   "cell_type": "code",
   "execution_count": null,
   "id": "0b9f9ea8",
   "metadata": {},
   "outputs": [],
   "source": [
    "data = data.loc[data['order_purchase_timestamp'] < '2018-08-16']"
   ]
  },
  {
   "cell_type": "code",
   "execution_count": null,
   "id": "fa0a7643",
   "metadata": {},
   "outputs": [],
   "source": [
    "data = data[['Customer',\n",
    "             'number_of_purchases',\n",
    "             'payments_total',\n",
    "             'last_order_days',\n",
    "             'review_score_mean']]\n",
    "\n",
    "data = data.set_index('Customer')"
   ]
  },
  {
   "cell_type": "code",
   "execution_count": null,
   "id": "50da6971",
   "metadata": {},
   "outputs": [],
   "source": [
    "X = data.values\n",
    "X.shape"
   ]
  },
  {
   "cell_type": "code",
   "execution_count": null,
   "id": "11bbbc9c",
   "metadata": {},
   "outputs": [],
   "source": [
    "from sklearn import preprocessing\n",
    "\n",
    "std_scale = preprocessing.StandardScaler().fit(X0)\n",
    "X_scaled = std_scale.transform(X)"
   ]
  },
  {
   "cell_type": "code",
   "execution_count": null,
   "id": "631aa9b6",
   "metadata": {},
   "outputs": [],
   "source": []
  },
  {
   "cell_type": "code",
   "execution_count": null,
   "id": "c0164223",
   "metadata": {},
   "outputs": [],
   "source": [
    "def filter_date(date, std_scale):\n",
    "    "
   ]
  }
 ],
 "metadata": {
  "kernelspec": {
   "display_name": "Python 3",
   "language": "python",
   "name": "python3"
  },
  "language_info": {
   "codemirror_mode": {
    "name": "ipython",
    "version": 3
   },
   "file_extension": ".py",
   "mimetype": "text/x-python",
   "name": "python",
   "nbconvert_exporter": "python",
   "pygments_lexer": "ipython3",
   "version": "3.8.8"
  }
 },
 "nbformat": 4,
 "nbformat_minor": 5
}
